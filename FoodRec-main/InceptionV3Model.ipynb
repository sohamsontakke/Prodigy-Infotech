{
  "nbformat": 4,
  "nbformat_minor": 0,
  "metadata": {
    "colab": {
      "name": "InceptionV3Model.ipynb",
      "provenance": [],
      "collapsed_sections": [],
      "authorship_tag": "ABX9TyNqaA7V9Oz3gZJBHJbKrGu+",
      "include_colab_link": true
    },
    "kernelspec": {
      "name": "python3",
      "display_name": "Python 3"
    },
    "language_info": {
      "name": "python"
    },
    "accelerator": "GPU"
  },
  "cells": [
    {
      "cell_type": "markdown",
      "metadata": {
        "id": "view-in-github",
        "colab_type": "text"
      },
      "source": [
        "<a href=\"https://colab.research.google.com/github/randelln/FoodRec/blob/main/InceptionV3Model.ipynb\" target=\"_parent\"><img src=\"https://colab.research.google.com/assets/colab-badge.svg\" alt=\"Open In Colab\"/></a>"
      ]
    },
    {
      "cell_type": "code",
      "metadata": {
        "colab": {
          "base_uri": "https://localhost:8080/"
        },
        "id": "zpwQdsSI4f67",
        "outputId": "2a09d0fb-e64d-4ee9-fbd6-e659108025bd"
      },
      "source": [
        "from google.colab import drive\n",
        "drive.mount('/content/gdrive', force_remount=False)\n"
      ],
      "execution_count": null,
      "outputs": [
        {
          "output_type": "stream",
          "text": [
            "Mounted at /content/gdrive\n"
          ],
          "name": "stdout"
        }
      ]
    },
    {
      "cell_type": "code",
      "metadata": {
        "id": "LYgVrxdR6gpT"
      },
      "source": [
        "#import required libraries\n",
        "import numpy as np\n",
        "import os \n",
        "import keras\n",
        "import tensorflow as tf\n",
        "from keras.models import *\n",
        "from keras.layers import *\n",
        "from keras.optimizers import *\n",
        "from keras.preprocessing.image import ImageDataGenerator\n",
        "from tensorflow.keras.callbacks import ModelCheckpoint, CSVLogger\n",
        "import tensorflow.keras.backend as K\n",
        "from tensorflow.keras import regularizers\n",
        "from tensorflow.keras.applications.inception_v3 import InceptionV3"
      ],
      "execution_count": null,
      "outputs": []
    },
    {
      "cell_type": "code",
      "metadata": {
        "id": "SGbYQ1_26g1K"
      },
      "source": [
        "!unzip -q \"/content/gdrive/MyDrive/UECFOOD/UEC.zip\" -d \"/content/UEC\""
      ],
      "execution_count": null,
      "outputs": []
    },
    {
      "cell_type": "code",
      "metadata": {
        "colab": {
          "base_uri": "https://localhost:8080/",
          "height": 35
        },
        "id": "KQwXJh_l6g46",
        "outputId": "7808599c-b050-4488-db84-7bfa88c8a0b3"
      },
      "source": [
        "import torch\n",
        "torch.cuda.get_device_name(0)"
      ],
      "execution_count": null,
      "outputs": [
        {
          "output_type": "execute_result",
          "data": {
            "application/vnd.google.colaboratory.intrinsic+json": {
              "type": "string"
            },
            "text/plain": [
              "'Tesla P4'"
            ]
          },
          "metadata": {
            "tags": []
          },
          "execution_count": 4
        }
      ]
    },
    {
      "cell_type": "code",
      "metadata": {
        "id": "VC7Upv9s6g8O"
      },
      "source": [
        "#Variables to set image size, file path, and batch size\n",
        "img_height, img_width = 299,299\n",
        "train_data_dir = '/content/UEC'\n",
        "validation_data_dir = '/content/UEC'\n",
        "batch_size =16"
      ],
      "execution_count": null,
      "outputs": []
    },
    {
      "cell_type": "code",
      "metadata": {
        "id": "dKdAQHzd6g_g"
      },
      "source": [
        "#Data Augemntation\n",
        "#fill_mode - When shifting an image, there is space left over, fill_mode will fill that area\n",
        "datagen = ImageDataGenerator(\n",
        "    rescale = 1./255,\n",
        "    shear_range =0.2,\n",
        "    zoom_range = 0.2,\n",
        "    horizontal_flip = True,\n",
        "    rotation_range =40,\n",
        "    width_shift_range =0.2,\n",
        "    height_shift_range = 0.2,\n",
        "    fill_mode = 'nearest',\n",
        "    validation_split = 0.2\n",
        ")"
      ],
      "execution_count": null,
      "outputs": []
    },
    {
      "cell_type": "code",
      "metadata": {
        "colab": {
          "base_uri": "https://localhost:8080/"
        },
        "id": "sBE4NRZI6hCu",
        "outputId": "34cebc3e-b388-4b4f-8305-3d5908ee56e8"
      },
      "source": [
        "#Setup training data\n",
        "train_generator = datagen.flow_from_directory(\n",
        "    train_data_dir,\n",
        "    target_size=(img_width,img_height),\n",
        "    batch_size = batch_size,\n",
        "    subset=\"training\",\n",
        "    class_mode = 'categorical')"
      ],
      "execution_count": null,
      "outputs": [
        {
          "output_type": "stream",
          "text": [
            "Found 9847 images belonging to 85 classes.\n"
          ],
          "name": "stdout"
        }
      ]
    },
    {
      "cell_type": "code",
      "metadata": {
        "colab": {
          "base_uri": "https://localhost:8080/"
        },
        "id": "kfQncpEQ6hIt",
        "outputId": "860e057e-0ac2-4787-b951-987d9499ecc5"
      },
      "source": [
        "#Setup validation data\n",
        "validation_generator = datagen.flow_from_directory(\n",
        "    \n",
        "    validation_data_dir,\n",
        "    target_size=(img_width,img_height),\n",
        "    batch_size = batch_size,\n",
        "    #Shuffle to be commented out when training data, and set to false when genereating metrics\n",
        "    #shuffle = False,\n",
        "    subset=\"validation\",\n",
        "    class_mode = 'categorical',\n",
        "    )"
      ],
      "execution_count": null,
      "outputs": [
        {
          "output_type": "stream",
          "text": [
            "Found 2424 images belonging to 85 classes.\n"
          ],
          "name": "stdout"
        }
      ]
    },
    {
      "cell_type": "code",
      "metadata": {
        "id": "ILHNy6iNLuzw"
      },
      "source": [
        "# Activation Function - Applied to convoluted values to increase the non-linearrity\n",
        "# Pooling Layer - Used to reduce image size, and only keeps most important features of image\n",
        "# Flatten - Transfroms multiple feature maps, into 1D Array\n",
        "# Batch Normalization - Used to increased training speed and network performance\n",
        "# Dropout is a technique used to prevent a model from overfitting. Dropout works by randomly setting the outgoing edges of hidden units (neurons that make up hidden layers) to 0 at each update of the training phase.\n",
        "\n",
        "# Applying non-tuned InceptionV3 model\n",
        "inception = InceptionV3(weights='imagenet', include_top=False)\n",
        "x = inception.output\n",
        "x = GlobalAveragePooling2D()(x)\n",
        "x = Dense(128,activation='relu')(x)\n",
        "x = Dropout(0.2)(x)\n",
        "\n",
        "predictions = Dense(85,kernel_regularizer=regularizers.l2(0.005), activation='softmax')(x)\n"
      ],
      "execution_count": null,
      "outputs": []
    },
    {
      "cell_type": "code",
      "metadata": {
        "id": "qJMOChImL-ju"
      },
      "source": [
        "#Compile the model\n",
        "model = Model(inputs=inception.input, outputs=predictions)\n",
        "model.compile(optimizer=SGD(lr=0.0001, momentum=0.9), loss='categorical_crossentropy', metrics=['accuracy'])"
      ],
      "execution_count": null,
      "outputs": []
    },
    {
      "cell_type": "code",
      "metadata": {
        "id": "0q-kgYloMI2-"
      },
      "source": [
        "#View model summary\n",
        "model.summary()"
      ],
      "execution_count": null,
      "outputs": []
    },
    {
      "cell_type": "code",
      "metadata": {
        "id": "n_3pKYBD6hVG"
      },
      "source": [
        "from keras.callbacks import History\n",
        "from keras.callbacks import EarlyStopping\n",
        "\n",
        "#Checkpoint used to save the best model throughout the epochs\n",
        "#Using a csv logger to track epochs\n",
        "checkpointer = ModelCheckpoint(filepath=\"/content/gdrive/MyDrive/UECInceptionV3/best_model.hdf5\", verbose=1, save_best_only=True)\n",
        "csv_logger = CSVLogger('/content/gdrive/MyDrive/UECInceptionV3/history_3class.log')\n",
        "history = History()"
      ],
      "execution_count": null,
      "outputs": []
    },
    {
      "cell_type": "code",
      "metadata": {
        "colab": {
          "base_uri": "https://localhost:8080/"
        },
        "id": "kEjM7Yn-6hYb",
        "outputId": "07bdc91f-77fc-42be-b9fa-b2e03cf0134e"
      },
      "source": [
        "#Fitting the model(Training the model)\n",
        "hist = model.fit(\n",
        "    train_generator,\n",
        "    shuffle = True,\n",
        "    steps_per_epoch = 614,\n",
        "    epochs = 30,callbacks=[history, checkpointer, csv_logger],\n",
        "    validation_data = validation_generator,\n",
        "    validation_steps= 151)"
      ],
      "execution_count": null,
      "outputs": [
        {
          "output_type": "stream",
          "text": [
            "Epoch 1/30\n",
            "614/614 [==============================] - 278s 440ms/step - loss: 4.9655 - accuracy: 0.0327 - val_loss: 4.5881 - val_accuracy: 0.1105\n",
            "\n",
            "Epoch 00001: val_loss improved from inf to 4.58809, saving model to /content/gdrive/MyDrive/UECInceptionV3/best_model.hdf5\n",
            "Epoch 2/30\n",
            "614/614 [==============================] - 266s 433ms/step - loss: 4.4835 - accuracy: 0.1275 - val_loss: 4.2529 - val_accuracy: 0.1871\n",
            "\n",
            "Epoch 00002: val_loss improved from 4.58809 to 4.25294, saving model to /content/gdrive/MyDrive/UECInceptionV3/best_model.hdf5\n",
            "Epoch 3/30\n",
            "614/614 [==============================] - 266s 433ms/step - loss: 4.1756 - accuracy: 0.1994 - val_loss: 3.9477 - val_accuracy: 0.2517\n",
            "\n",
            "Epoch 00003: val_loss improved from 4.25294 to 3.94768, saving model to /content/gdrive/MyDrive/UECInceptionV3/best_model.hdf5\n",
            "Epoch 4/30\n",
            "614/614 [==============================] - 268s 436ms/step - loss: 3.8934 - accuracy: 0.2613 - val_loss: 3.6434 - val_accuracy: 0.3137\n",
            "\n",
            "Epoch 00004: val_loss improved from 3.94768 to 3.64336, saving model to /content/gdrive/MyDrive/UECInceptionV3/best_model.hdf5\n",
            "Epoch 5/30\n",
            "614/614 [==============================] - 273s 445ms/step - loss: 3.5726 - accuracy: 0.3221 - val_loss: 3.3243 - val_accuracy: 0.3762\n",
            "\n",
            "Epoch 00005: val_loss improved from 3.64336 to 3.32429, saving model to /content/gdrive/MyDrive/UECInceptionV3/best_model.hdf5\n",
            "Epoch 6/30\n",
            "614/614 [==============================] - 267s 434ms/step - loss: 3.2680 - accuracy: 0.3827 - val_loss: 3.0291 - val_accuracy: 0.4367\n",
            "\n",
            "Epoch 00006: val_loss improved from 3.32429 to 3.02905, saving model to /content/gdrive/MyDrive/UECInceptionV3/best_model.hdf5\n",
            "Epoch 7/30\n",
            "614/614 [==============================] - 268s 436ms/step - loss: 3.0007 - accuracy: 0.4321 - val_loss: 2.7824 - val_accuracy: 0.4884\n",
            "\n",
            "Epoch 00007: val_loss improved from 3.02905 to 2.78242, saving model to /content/gdrive/MyDrive/UECInceptionV3/best_model.hdf5\n",
            "Epoch 8/30\n",
            "614/614 [==============================] - 267s 434ms/step - loss: 2.7343 - accuracy: 0.4883 - val_loss: 2.5630 - val_accuracy: 0.5203\n",
            "\n",
            "Epoch 00008: val_loss improved from 2.78242 to 2.56304, saving model to /content/gdrive/MyDrive/UECInceptionV3/best_model.hdf5\n",
            "Epoch 9/30\n",
            "614/614 [==============================] - 266s 433ms/step - loss: 2.5022 - accuracy: 0.5287 - val_loss: 2.4091 - val_accuracy: 0.5608\n",
            "\n",
            "Epoch 00009: val_loss improved from 2.56304 to 2.40913, saving model to /content/gdrive/MyDrive/UECInceptionV3/best_model.hdf5\n",
            "Epoch 10/30\n",
            "614/614 [==============================] - 266s 433ms/step - loss: 2.3072 - accuracy: 0.5699 - val_loss: 2.2362 - val_accuracy: 0.5882\n",
            "\n",
            "Epoch 00010: val_loss improved from 2.40913 to 2.23618, saving model to /content/gdrive/MyDrive/UECInceptionV3/best_model.hdf5\n",
            "Epoch 11/30\n",
            "614/614 [==============================] - 267s 435ms/step - loss: 2.1710 - accuracy: 0.5979 - val_loss: 2.1143 - val_accuracy: 0.6018\n",
            "\n",
            "Epoch 00011: val_loss improved from 2.23618 to 2.11429, saving model to /content/gdrive/MyDrive/UECInceptionV3/best_model.hdf5\n",
            "Epoch 12/30\n",
            "614/614 [==============================] - 268s 436ms/step - loss: 2.0432 - accuracy: 0.6216 - val_loss: 2.0292 - val_accuracy: 0.6204\n",
            "\n",
            "Epoch 00012: val_loss improved from 2.11429 to 2.02919, saving model to /content/gdrive/MyDrive/UECInceptionV3/best_model.hdf5\n",
            "Epoch 13/30\n",
            "614/614 [==============================] - 267s 435ms/step - loss: 1.9298 - accuracy: 0.6433 - val_loss: 1.9230 - val_accuracy: 0.6449\n",
            "\n",
            "Epoch 00013: val_loss improved from 2.02919 to 1.92304, saving model to /content/gdrive/MyDrive/UECInceptionV3/best_model.hdf5\n",
            "Epoch 14/30\n",
            "614/614 [==============================] - 267s 434ms/step - loss: 1.8121 - accuracy: 0.6607 - val_loss: 1.8817 - val_accuracy: 0.6573\n",
            "\n",
            "Epoch 00014: val_loss improved from 1.92304 to 1.88168, saving model to /content/gdrive/MyDrive/UECInceptionV3/best_model.hdf5\n",
            "Epoch 15/30\n",
            "614/614 [==============================] - 267s 434ms/step - loss: 1.7424 - accuracy: 0.6783 - val_loss: 1.7996 - val_accuracy: 0.6730\n",
            "\n",
            "Epoch 00015: val_loss improved from 1.88168 to 1.79965, saving model to /content/gdrive/MyDrive/UECInceptionV3/best_model.hdf5\n",
            "Epoch 16/30\n",
            "614/614 [==============================] - 269s 438ms/step - loss: 1.6741 - accuracy: 0.7011 - val_loss: 1.7429 - val_accuracy: 0.6743\n",
            "\n",
            "Epoch 00016: val_loss improved from 1.79965 to 1.74295, saving model to /content/gdrive/MyDrive/UECInceptionV3/best_model.hdf5\n",
            "Epoch 17/30\n",
            "614/614 [==============================] - 270s 439ms/step - loss: 1.6055 - accuracy: 0.7196 - val_loss: 1.7195 - val_accuracy: 0.6788\n",
            "\n",
            "Epoch 00017: val_loss improved from 1.74295 to 1.71946, saving model to /content/gdrive/MyDrive/UECInceptionV3/best_model.hdf5\n",
            "Epoch 18/30\n",
            "614/614 [==============================] - 270s 439ms/step - loss: 1.5282 - accuracy: 0.7266 - val_loss: 1.6830 - val_accuracy: 0.6892\n",
            "\n",
            "Epoch 00018: val_loss improved from 1.71946 to 1.68304, saving model to /content/gdrive/MyDrive/UECInceptionV3/best_model.hdf5\n",
            "Epoch 19/30\n",
            "614/614 [==============================] - 267s 434ms/step - loss: 1.4669 - accuracy: 0.7412 - val_loss: 1.6416 - val_accuracy: 0.6995\n",
            "\n",
            "Epoch 00019: val_loss improved from 1.68304 to 1.64155, saving model to /content/gdrive/MyDrive/UECInceptionV3/best_model.hdf5\n",
            "Epoch 20/30\n",
            "614/614 [==============================] - 268s 436ms/step - loss: 1.4344 - accuracy: 0.7518 - val_loss: 1.6055 - val_accuracy: 0.7012\n",
            "\n",
            "Epoch 00020: val_loss improved from 1.64155 to 1.60545, saving model to /content/gdrive/MyDrive/UECInceptionV3/best_model.hdf5\n",
            "Epoch 21/30\n",
            "614/614 [==============================] - 269s 438ms/step - loss: 1.3850 - accuracy: 0.7603 - val_loss: 1.5868 - val_accuracy: 0.7111\n",
            "\n",
            "Epoch 00021: val_loss improved from 1.60545 to 1.58679, saving model to /content/gdrive/MyDrive/UECInceptionV3/best_model.hdf5\n",
            "Epoch 22/30\n",
            "614/614 [==============================] - 269s 438ms/step - loss: 1.3395 - accuracy: 0.7701 - val_loss: 1.5644 - val_accuracy: 0.7082\n",
            "\n",
            "Epoch 00022: val_loss improved from 1.58679 to 1.56440, saving model to /content/gdrive/MyDrive/UECInceptionV3/best_model.hdf5\n",
            "Epoch 23/30\n",
            "614/614 [==============================] - 271s 441ms/step - loss: 1.2882 - accuracy: 0.7864 - val_loss: 1.5709 - val_accuracy: 0.7090\n",
            "\n",
            "Epoch 00023: val_loss did not improve from 1.56440\n",
            "Epoch 24/30\n",
            "614/614 [==============================] - 269s 437ms/step - loss: 1.2360 - accuracy: 0.7982 - val_loss: 1.5525 - val_accuracy: 0.7156\n",
            "\n",
            "Epoch 00024: val_loss improved from 1.56440 to 1.55252, saving model to /content/gdrive/MyDrive/UECInceptionV3/best_model.hdf5\n",
            "Epoch 25/30\n",
            "614/614 [==============================] - 269s 438ms/step - loss: 1.2349 - accuracy: 0.7976 - val_loss: 1.5179 - val_accuracy: 0.7223\n",
            "\n",
            "Epoch 00025: val_loss improved from 1.55252 to 1.51793, saving model to /content/gdrive/MyDrive/UECInceptionV3/best_model.hdf5\n",
            "Epoch 26/30\n",
            "614/614 [==============================] - 268s 437ms/step - loss: 1.2298 - accuracy: 0.7912 - val_loss: 1.4875 - val_accuracy: 0.7330\n",
            "\n",
            "Epoch 00026: val_loss improved from 1.51793 to 1.48751, saving model to /content/gdrive/MyDrive/UECInceptionV3/best_model.hdf5\n",
            "Epoch 27/30\n",
            "614/614 [==============================] - 268s 437ms/step - loss: 1.1770 - accuracy: 0.8049 - val_loss: 1.4756 - val_accuracy: 0.7285\n",
            "\n",
            "Epoch 00027: val_loss improved from 1.48751 to 1.47559, saving model to /content/gdrive/MyDrive/UECInceptionV3/best_model.hdf5\n",
            "Epoch 28/30\n",
            "614/614 [==============================] - 269s 437ms/step - loss: 1.1367 - accuracy: 0.8139 - val_loss: 1.4770 - val_accuracy: 0.7285\n",
            "\n",
            "Epoch 00028: val_loss did not improve from 1.47559\n",
            "Epoch 29/30\n",
            "614/614 [==============================] - 268s 436ms/step - loss: 1.1421 - accuracy: 0.8119 - val_loss: 1.4676 - val_accuracy: 0.7334\n",
            "\n",
            "Epoch 00029: val_loss improved from 1.47559 to 1.46762, saving model to /content/gdrive/MyDrive/UECInceptionV3/best_model.hdf5\n",
            "Epoch 30/30\n",
            "614/614 [==============================] - 268s 436ms/step - loss: 1.1105 - accuracy: 0.8230 - val_loss: 1.4321 - val_accuracy: 0.7409\n",
            "\n",
            "Epoch 00030: val_loss improved from 1.46762 to 1.43210, saving model to /content/gdrive/MyDrive/UECInceptionV3/best_model.hdf5\n"
          ],
          "name": "stdout"
        }
      ]
    },
    {
      "cell_type": "code",
      "metadata": {
        "colab": {
          "base_uri": "https://localhost:8080/"
        },
        "id": "r4NBgo7x6hn3",
        "outputId": "a4fb9725-d728-427e-ae5b-0e057843ac28"
      },
      "source": [
        "#Print model accuracy\n",
        "acc = model.evaluate(validation_generator, steps=len(validation_generator), verbose = 2)\n",
        "print('%.2f'%(acc[1]*100))"
      ],
      "execution_count": null,
      "outputs": [
        {
          "output_type": "stream",
          "text": [
            "152/152 - 47s - loss: 1.4320 - accuracy: 0.7380\n",
            "73.80\n"
          ],
          "name": "stdout"
        }
      ]
    },
    {
      "cell_type": "code",
      "metadata": {
        "id": "pUCl5fJG6hcj"
      },
      "source": [
        "#Additional save model command\n",
        "model.save('/content/gdrive/MyDrive/UECInceptionV3/inception_model.hdf5')"
      ],
      "execution_count": null,
      "outputs": []
    },
    {
      "cell_type": "code",
      "metadata": {
        "colab": {
          "base_uri": "https://localhost:8080/"
        },
        "id": "gt98lqmIZNXJ",
        "outputId": "1fcd1965-45ba-49cf-8efe-1b038eabeff3"
      },
      "source": [
        "tf.saved_model.save(model, '/content/gdrive/MyDrive/UECInceptionV3')"
      ],
      "execution_count": null,
      "outputs": [
        {
          "output_type": "stream",
          "text": [
            "INFO:tensorflow:Assets written to: /content/gdrive/MyDrive/UECMODEL/assets\n"
          ],
          "name": "stdout"
        }
      ]
    },
    {
      "cell_type": "code",
      "metadata": {
        "colab": {
          "base_uri": "https://localhost:8080/",
          "height": 551
        },
        "id": "3VfNezOb6hgC",
        "outputId": "4f71bb91-ed20-4be1-c936-4ffc275f6613"
      },
      "source": [
        "#Plot loss graph\n",
        "import matplotlib.pyplot as plt\n",
        "\n",
        "plt.figure(figsize=(10,8))\n",
        "plt.plot(hist.history['loss'], color = 'blue', label = 'Training Loss')\n",
        "plt.plot(hist.history['val_loss'], color = 'orange', label = 'Validation Loss')\n",
        "plt.grid(True)\n",
        "plt.title(\"Train and Test loss with epochs\\n\", fontsize=16)\n",
        "plt.xlabel(\"Training epochs\", fontsize=12)\n",
        "plt.ylabel(\"Train & Test loss\", fontsize=12)\n",
        "plt.legend(loc=0)\n",
        "\n",
        "plt.show"
      ],
      "execution_count": null,
      "outputs": [
        {
          "output_type": "execute_result",
          "data": {
            "text/plain": [
              "<function matplotlib.pyplot.show>"
            ]
          },
          "metadata": {
            "tags": []
          },
          "execution_count": 40
        },
        {
          "output_type": "display_data",
          "data": {
            "image/png": "[encoded data removed]",
            "text/plain": [
              "<Figure size 720x576 with 1 Axes>"
            ]
          },
          "metadata": {
            "tags": [],
            "needs_background": "light"
          }
        }
      ]
    },
    {
      "cell_type": "code",
      "metadata": {
        "colab": {
          "base_uri": "https://localhost:8080/",
          "height": 567
        },
        "id": "gpF5bh1I6hj8",
        "outputId": "23e81e21-5a98-4493-9cc8-98e0de3959b1"
      },
      "source": [
        "#Plot accuracy graph\n",
        "import matplotlib.pyplot as plt\n",
        "plt.figure(figsize=(10,8))\n",
        "plt.plot(hist.history['accuracy'], color = 'blue', label = 'Training Accuracy')\n",
        "plt.plot(hist.history['val_accuracy'], color = 'orange', label = 'Validation Accuracy')\n",
        "plt.grid(True)\n",
        "plt.title(\"Train and Test Accuracy with epochs\\n\", fontsize=16)\n",
        "plt.xlabel(\"Training epochs\", fontsize=12)\n",
        "plt.ylabel(\"Train & Test Accuracy\", fontsize=12)\n",
        "plt.legend(loc=0)\n",
        "plt.figure(figsize=(20,15))\n",
        "plt.show"
      ],
      "execution_count": null,
      "outputs": [
        {
          "output_type": "execute_result",
          "data": {
            "text/plain": [
              "<function matplotlib.pyplot.show>"
            ]
          },
          "metadata": {
            "tags": []
          },
          "execution_count": 41
        },
        {
          "output_type": "display_data",
          "data": {
            "image/png": "[encoded data removed]",
            "text/plain": [
              "<Figure size 720x576 with 1 Axes>"
            ]
          },
          "metadata": {
            "tags": [],
            "needs_background": "light"
          }
        },
        {
          "output_type": "display_data",
          "data": {
            "text/plain": [
              "<Figure size 1440x1080 with 0 Axes>"
            ]
          },
          "metadata": {
            "tags": []
          }
        }
      ]
    },
    {
      "cell_type": "code",
      "metadata": {
        "id": "O5Gq6gmkEmi2"
      },
      "source": [
        "#Load model to produce predictions and metrics, after loading, then load data and perform necessary augmentation.\n",
        "model = load_model('/content/gdrive/MyDrive/UECInceptionV3/best_model.hdf5')"
      ],
      "execution_count": null,
      "outputs": []
    },
    {
      "cell_type": "code",
      "metadata": {
        "id": "8NWRDjcqx4Cz"
      },
      "source": [
        "from sklearn import metrics\n",
        "Y_pred = model.predict(validation_generator)\n",
        "fpr, tpr, thresholds = metrics.roc_curve(validation_generator.classes, np.argmax(Y_pred, axis=1), pos_label=1)"
      ],
      "execution_count": null,
      "outputs": []
    },
    {
      "cell_type": "code",
      "metadata": {
        "colab": {
          "base_uri": "https://localhost:8080/",
          "height": 278
        },
        "id": "rLJwaKKDx6av",
        "outputId": "5424d2cb-1c45-4c04-aa2c-42418131112f"
      },
      "source": [
        "\n",
        "import matplotlib.pyplot as plt\n",
        "roc_auc = metrics.auc(fpr, tpr)\n",
        "display = metrics.RocCurveDisplay(fpr=fpr, tpr=tpr, roc_auc=roc_auc,\n",
        "                                  estimator_name='ROC Curve')\n",
        "display.plot()\n",
        "plt.show()"
      ],
      "execution_count": null,
      "outputs": [
        {
          "output_type": "display_data",
          "data": {
            "image/png": "[encoded data removed]",
            "text/plain": [
              "<Figure size 432x288 with 1 Axes>"
            ]
          },
          "metadata": {
            "tags": [],
            "needs_background": "light"
          }
        }
      ]
    },
    {
      "cell_type": "code",
      "metadata": {
        "id": "wz9_GMx_6hrI"
      },
      "source": [
        "#Names of classes, to be used for confusion matrix and classification report\n",
        "target_names = [ 'rice', \n",
        "                'tempura bowl',\n",
        "                'bibimbap',\n",
        "                'toast',\n",
        "                'croissant',\n",
        "                'roll bread',\n",
        "                'rasin bread','chip butty','hamburger','pizza','sandwiches','eels on rice','udon noodle','tempura udon','soba noodle','ramen noodle','beef noodle','tensin noodle','fried noodle',\n",
        "                    'spaghetti',\n",
        "                    'Japanese-style pancake',\n",
        "                    'takoyako',\n",
        "                    'pilaf',\n",
        "                    'gratin',\n",
        "                    'sauteed vegetables',\n",
        "                    'croquette',\n",
        "                    'grilled eggplant',\n",
        "                    'sauteed spinach',\n",
        "                    'vegetable tempura',\n",
        "                    'miso soup',\n",
        "                    'potage',\n",
        "                    'sausage',\n",
        "                    'oden',\n",
        "                    'chicken and egg on rice',\n",
        "                    'omelet',\n",
        "                    'ganmodoki',\n",
        "                    'jiaozi',\n",
        "                    'stew',\n",
        "                    'teriyaki grilled fish',\n",
        "                    'fried fish',\n",
        "                    'grilled salmon',\n",
        "                    'salmon meuniere',\n",
        "                    'sashimi',\n",
        "                    'grilled pacific saury',\n",
        "                    'pork cutlet on rice',\n",
        "                    'sukiyaki',\n",
        "                    'sweet and sour pork',\n",
        "                    'lightly roasted fish',\n",
        "                    'steamed egg hotchpotch',\n",
        "                    'tempura',\n",
        "                    'fried chicken',\n",
        "                    'sirloin cutlet',\n",
        "                    'nanbanzuke',\n",
        "                    'boiled fish',\n",
        "                    'seasoned beef with potatoes',\n",
        "                    'beef curry',\n",
        "                    'hambarg steak',\n",
        "                    'steak',\n",
        "                    'dried fish',\n",
        "                    'ginger pork saute',\n",
        "                    'spicy chili-flavoured tofu',\n",
        "                    'yakitori',\n",
        "                    'cabbage roll',\n",
        "                    'omelet',\n",
        "                    'egg sunny-side up',\n",
        "                    'natto',\n",
        "                    'sushi',\n",
        "                    'cold tofu',\n",
        "                    'egg roll',\n",
        "                    'chilled noodle',\n",
        "                    'stir-fried beef and peppers',\n",
        "                    'simmered pork',\n",
        "                    'boiled chicken and vegetables',\n",
        "                    'sashimi bowl',\n",
        "                    'sushi bowl',\n",
        "                    'fish-shaped pancake with bean jam',\n",
        "                    'shrimp with chilli sauce',\n",
        "                    'chicken rice',\n",
        "                    'roast chicken',\n",
        "                    'steamed meat dumpling',\n",
        "                    'omelet with fried rice',\n",
        "                    'cutlet curry',\n",
        "                    'spaghetti meat sauce',\n",
        "                    'fried shrimp',\n",
        "                    'fried rice']\n",
        "\n"
      ],
      "execution_count": null,
      "outputs": []
    },
    {
      "cell_type": "code",
      "metadata": {
        "id": "6zi0w_hSHDe7"
      },
      "source": [
        "#Generate and plot confustion matrix\n",
        "%matplotlib inline\n",
        "import itertools\n",
        "import matplotlib.pyplot as plt\n",
        "import numpy as np\n",
        "from sklearn.metrics import classification_report, confusion_matrix\n",
        "from matplotlib.pyplot import figure\n",
        "\n",
        "figure(figsize=(70, 70))\n",
        "\n",
        "Y_pred = model.predict(validation_generator, 2424)\n",
        "y_pred = np.argmax(Y_pred, axis=1)\n",
        "\n",
        "cm = confusion_matrix(validation_generator.classes, y_pred)\n",
        "\n",
        "\n",
        "plt.imshow(cm, cmap=plt.cm.Blues)\n",
        "plt.xlabel(\"Predicted Values\")\n",
        "plt.ylabel(\"True Values\")\n",
        "#plt.margins(0.9)\n",
        "\n",
        "#plt.subplots_adjust(bottom = 0.15)\n",
        "plt.xticks([],  target_names)\n",
        "plt.yticks([], target_names)\n",
        "plt.title('Confusion matrix ')\n",
        "plt.colorbar()\n",
        "plt.show()"
      ],
      "execution_count": null,
      "outputs": []
    },
    {
      "cell_type": "code",
      "metadata": {
        "colab": {
          "base_uri": "https://localhost:8080/"
        },
        "id": "pU3RUNEE1SQx",
        "outputId": "abe8c9f0-a143-48c8-8ed1-10d993acec61"
      },
      "source": [
        "#Produce classification report for F1 scores\n",
        "from sklearn.metrics import classification_report, confusion_matrix\n",
        "import numpy as np\n",
        "\n",
        "Y_pred = model.predict(validation_generator, 2424)\n",
        "y_pred = np.argmax(Y_pred, axis=1)\n",
        "print('Confusion Matrix')\n",
        "print(confusion_matrix(validation_generator.classes, y_pred))\n",
        "print('Classification Report')\n",
        "\n",
        "print(classification_report(validation_generator.classes, y_pred, target_names=target_names))"
      ],
      "execution_count": null,
      "outputs": [
        {
          "output_type": "stream",
          "text": [
            "Confusion Matrix\n",
            "[[121   0   0 ...   0   0   0]\n",
            " [  0  18   0 ...   0   0   0]\n",
            " [  0   0  19 ...   0   0   0]\n",
            " ...\n",
            " [  0   0   0 ...  13   0   0]\n",
            " [  0   0   0 ...   0  17   0]\n",
            " [  1   0   0 ...   0   0  29]]\n",
            "Classification Report\n",
            "                                   precision    recall  f1-score   support\n",
            "\n",
            "                             rice       0.95      0.98      0.96       124\n",
            "                     tempura bowl       0.72      0.67      0.69        27\n",
            "                         bibimbap       0.90      0.86      0.88        22\n",
            "                            toast       0.75      0.70      0.72        43\n",
            "                        croissant       0.88      0.88      0.88        24\n",
            "                       roll bread       0.84      1.00      0.91        21\n",
            "                      rasin bread       0.90      0.90      0.90        20\n",
            "                       chip butty       0.56      0.62      0.59        29\n",
            "                        hamburger       0.87      0.89      0.88        46\n",
            "                            pizza       0.82      0.69      0.75        26\n",
            "                       sandwiches       0.80      0.62      0.70        32\n",
            "                     eels on rice       0.93      0.96      0.94        26\n",
            "                      udon noodle       0.76      0.53      0.63        30\n",
            "                     tempura udon       0.88      0.67      0.76        21\n",
            "                      soba noodle       0.88      0.94      0.91        32\n",
            "                     ramen noodle       0.57      0.79      0.66        70\n",
            "                      beef noodle       0.50      0.26      0.34        27\n",
            "                    tensin noodle       0.86      0.86      0.86        22\n",
            "                     fried noodle       0.73      0.85      0.79        26\n",
            "                        spaghetti       0.65      0.93      0.77        30\n",
            "           Japanese-style pancake       0.79      0.85      0.82        27\n",
            "                         takoyako       0.73      0.73      0.73        26\n",
            "                            pilaf       0.75      0.52      0.62        23\n",
            "                           gratin       0.78      0.78      0.78        23\n",
            "               sauteed vegetables       0.59      0.42      0.49        24\n",
            "                        croquette       0.75      0.48      0.59        25\n",
            "                 grilled eggplant       0.85      0.55      0.67        20\n",
            "                  sauteed spinach       0.83      1.00      0.91        20\n",
            "                vegetable tempura       0.41      0.30      0.35        23\n",
            "                        miso soup       0.83      0.98      0.90       145\n",
            "                           potage       0.86      0.82      0.84        22\n",
            "                          sausage       0.74      0.61      0.67        23\n",
            "                             oden       0.67      0.55      0.60        22\n",
            "          chicken and egg on rice       0.77      0.71      0.74        24\n",
            "                           omelet       0.48      0.52      0.50        21\n",
            "                        ganmodoki       0.61      0.77      0.68        22\n",
            "                           jiaozi       0.64      0.76      0.69        33\n",
            "                             stew       0.81      0.81      0.81        21\n",
            "            teriyaki grilled fish       0.57      0.62      0.59        21\n",
            "                       fried fish       0.40      0.25      0.31        24\n",
            "                   grilled salmon       0.59      0.70      0.64        23\n",
            "                  salmon meuniere       0.41      0.45      0.43        20\n",
            "                          sashimi       0.44      0.33      0.38        24\n",
            "            grilled pacific saury       0.89      0.94      0.92        36\n",
            "              pork cutlet on rice       0.71      0.73      0.72        30\n",
            "                         sukiyaki       0.62      0.67      0.64        24\n",
            "              sweet and sour pork       0.83      0.90      0.86        21\n",
            "             lightly roasted fish       0.86      0.60      0.71        20\n",
            "           steamed egg hotchpotch       0.86      0.90      0.88        21\n",
            "                          tempura       0.48      0.61      0.54        23\n",
            "                    fried chicken       0.81      0.57      0.67        30\n",
            "                   sirloin cutlet       0.75      0.64      0.69        28\n",
            "                       nanbanzuke       0.70      0.70      0.70        20\n",
            "                      boiled fish       0.73      0.38      0.50        21\n",
            "      seasoned beef with potatoes       0.91      0.87      0.89        23\n",
            "                       beef curry       0.63      0.59      0.61        49\n",
            "                    hambarg steak       0.77      0.63      0.69        27\n",
            "                            steak       0.74      0.67      0.70        21\n",
            "                       dried fish       0.85      0.77      0.81        22\n",
            "                ginger pork saute       0.70      0.70      0.70        23\n",
            "       spicy chili-flavoured tofu       0.81      0.92      0.86        24\n",
            "                         yakitori       0.61      0.77      0.68        22\n",
            "                     cabbage roll       0.91      0.95      0.93        21\n",
            "                           omelet       0.53      0.38      0.44        26\n",
            "                egg sunny-side up       0.82      0.91      0.86        44\n",
            "                            natto       0.82      0.62      0.71        29\n",
            "                            sushi       0.67      0.87      0.75        30\n",
            "                        cold tofu       0.58      0.97      0.72        31\n",
            "                         egg roll       0.80      0.57      0.67        21\n",
            "                   chilled noodle       0.83      0.83      0.83        23\n",
            "      stir-fried beef and peppers       0.95      0.90      0.93        21\n",
            "                    simmered pork       0.67      0.57      0.62        21\n",
            "    boiled chicken and vegetables       0.74      0.81      0.77        21\n",
            "                     sashimi bowl       0.65      0.83      0.73        29\n",
            "                       sushi bowl       0.65      0.68      0.67        22\n",
            "fish-shaped pancake with bean jam       1.00      0.92      0.96        24\n",
            "         shrimp with chilli sauce       0.88      0.91      0.89        23\n",
            "                     chicken rice       0.77      1.00      0.87        20\n",
            "                    roast chicken       0.89      0.77      0.83        22\n",
            "            steamed meat dumpling       0.82      0.78      0.80        23\n",
            "           omelet with fried rice       0.62      0.32      0.42        25\n",
            "                     cutlet curry       0.63      0.68      0.66        28\n",
            "             spaghetti meat sauce       0.93      0.52      0.67        25\n",
            "                     fried shrimp       0.65      0.74      0.69        23\n",
            "                       fried rice       0.72      0.88      0.79        33\n",
            "\n",
            "                         accuracy                           0.75      2424\n",
            "                        macro avg       0.74      0.72      0.72      2424\n",
            "                     weighted avg       0.75      0.75      0.74      2424\n",
            "\n"
          ],
          "name": "stdout"
        }
      ]
    }
  ]
}