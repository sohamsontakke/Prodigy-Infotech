{
  "nbformat": 4,
  "nbformat_minor": 0,
  "metadata": {
    "colab": {
      "name": "OwnModel.ipynb",
      "provenance": [],
      "collapsed_sections": [],
      "authorship_tag": "ABX9TyNxOs9GrsI3WquMOSIfZGAl",
      "include_colab_link": true
    },
    "kernelspec": {
      "name": "python3",
      "display_name": "Python 3"
    },
    "language_info": {
      "name": "python"
    }
  },
  "cells": [
    {
      "cell_type": "markdown",
      "metadata": {
        "id": "view-in-github",
        "colab_type": "text"
      },
      "source": [
        "<a href=\"https://colab.research.google.com/github/randelln/FoodRec/blob/main/OwnModel.ipynb\" target=\"_parent\"><img src=\"https://colab.research.google.com/assets/colab-badge.svg\" alt=\"Open In Colab\"/></a>"
      ]
    },
    {
      "cell_type": "code",
      "metadata": {
        "colab": {
          "base_uri": "https://localhost:8080/"
        },
        "id": "zpwQdsSI4f67",
        "outputId": "8087b158-c5ca-443d-e76d-b7877d59fd94"
      },
      "source": [
        "from google.colab import drive\n",
        "drive.mount('/content/gdrive', force_remount=False)\n"
      ],
      "execution_count": null,
      "outputs": [
        {
          "output_type": "stream",
          "text": [
            "Mounted at /content/gdrive\n"
          ],
          "name": "stdout"
        }
      ]
    },
    {
      "cell_type": "code",
      "metadata": {
        "id": "LYgVrxdR6gpT"
      },
      "source": [
        "#import required libraries\n",
        "import numpy as np\n",
        "import os \n",
        "import keras\n",
        "import tensorflow as tf\n",
        "from keras.models import *\n",
        "from keras.layers import *\n",
        "from keras.optimizers import *\n",
        "from keras.preprocessing.image import ImageDataGenerator\n",
        "from tensorflow.keras.callbacks import ModelCheckpoint, CSVLogger"
      ],
      "execution_count": null,
      "outputs": []
    },
    {
      "cell_type": "code",
      "metadata": {
        "id": "SGbYQ1_26g1K"
      },
      "source": [
        "#!unzip -q \"/content/gdrive/MyDrive/UECFOOD/UEC.zip\" -d \"/content/UEC\""
      ],
      "execution_count": null,
      "outputs": []
    },
    {
      "cell_type": "code",
      "metadata": {
        "colab": {
          "base_uri": "https://localhost:8080/",
          "height": 35
        },
        "id": "KQwXJh_l6g46",
        "outputId": "d968365d-c71c-4f10-c030-46e84c03f47e"
      },
      "source": [
        "import torch\n",
        "torch.cuda.get_device_name(0)"
      ],
      "execution_count": null,
      "outputs": [
        {
          "output_type": "execute_result",
          "data": {
            "application/vnd.google.colaboratory.intrinsic+json": {
              "type": "string"
            },
            "text/plain": [
              "'Tesla K80'"
            ]
          },
          "metadata": {
            "tags": []
          },
          "execution_count": 4
        }
      ]
    },
    {
      "cell_type": "code",
      "metadata": {
        "id": "VC7Upv9s6g8O"
      },
      "source": [
        "#Set variables: file path, image sizes, and batch size\n",
        "img_height, img_width = 150,150\n",
        "train_data_dir = '/content/UEC'\n",
        "validation_data_dir = '/content/UEC'\n",
        "batch_size =16"
      ],
      "execution_count": null,
      "outputs": []
    },
    {
      "cell_type": "code",
      "metadata": {
        "id": "dKdAQHzd6g_g"
      },
      "source": [
        "#Data Augmentation\n",
        "#fill_mode - When shifting an image, there is space left over, fill_mode will fill that area\n",
        "datagen = ImageDataGenerator(\n",
        "    rescale = 1./255,\n",
        "    shear_range =0.2,\n",
        "    zoom_range = 0.2,\n",
        "    horizontal_flip = True,\n",
        "    rotation_range =40,\n",
        "    width_shift_range =0.2,\n",
        "    height_shift_range = 0.2,\n",
        "    fill_mode = 'nearest',\n",
        "    validation_split = 0.2\n",
        ")"
      ],
      "execution_count": null,
      "outputs": []
    },
    {
      "cell_type": "code",
      "metadata": {
        "colab": {
          "base_uri": "https://localhost:8080/"
        },
        "id": "sBE4NRZI6hCu",
        "outputId": "251469cd-07c3-4ebb-ed9b-c330a5530caf"
      },
      "source": [
        "#Setup for trainig set\n",
        "train_generator = datagen.flow_from_directory(\n",
        "    train_data_dir,\n",
        "    target_size=(img_width,img_height),\n",
        "    batch_size = batch_size,\n",
        "    subset=\"training\",\n",
        "    class_mode = 'categorical')"
      ],
      "execution_count": null,
      "outputs": [
        {
          "output_type": "stream",
          "text": [
            "Found 9847 images belonging to 85 classes.\n"
          ],
          "name": "stdout"
        }
      ]
    },
    {
      "cell_type": "code",
      "metadata": {
        "colab": {
          "base_uri": "https://localhost:8080/"
        },
        "id": "kfQncpEQ6hIt",
        "outputId": "09ad9b29-6fd7-4fb1-ee81-d9aaf575fe45"
      },
      "source": [
        "#Setup for validation set\n",
        "validation_generator = datagen.flow_from_directory(\n",
        "    validation_data_dir,\n",
        "    target_size=(img_width,img_height),\n",
        "    batch_size = batch_size,\n",
        "    #Shuffle to be commented out when training data, and set to false when genereating metrics\n",
        "    shuffle = False,\n",
        "    subset=\"validation\",\n",
        "    class_mode = 'categorical',\n",
        "    )"
      ],
      "execution_count": null,
      "outputs": [
        {
          "output_type": "stream",
          "text": [
            "Found 2424 images belonging to 85 classes.\n"
          ],
          "name": "stdout"
        }
      ]
    },
    {
      "cell_type": "code",
      "metadata": {
        "id": "Nl02pqHq6hLv"
      },
      "source": [
        "# Activation Function - Applied to convoluted values to increase the non-linearrity\n",
        "# Pooling Layer - Used to reduce image size, and only keeps most important features of image\n",
        "# Flatten - Transfroms multiple feature maps, into 1D Array\n",
        "# Batch Normalization - Used to increased training speed and network performance\n",
        "# Dropout is a technique used to prevent a model from overfitting. Dropout works by randomly setting the outgoing edges of hidden units (neurons that make up hidden layers) to 0 at each update of the training phase.\n",
        "\n",
        "#Apply Model\n",
        "model = tf.keras.models.Sequential()\n",
        "\n",
        "#Using a relu activation function (cost function)\n",
        "#First visible layer, with 16 filters\n",
        "model.add(tf.keras.layers.Conv2D(16, (3, 3), padding=\"same\",input_shape=(150,150,3)))\n",
        "model.add(tf.keras.layers.Activation(\"relu\"))\n",
        "model.add(tf.keras.layers.BatchNormalization())\n",
        "model.add(tf.keras.layers.MaxPooling2D(pool_size=(2, 2)))\n",
        "\n",
        "#A second convolutional layer with 32 filters\n",
        "model.add(tf.keras.layers.Conv2D(32, (3, 3), padding=\"same\"))\n",
        "model.add(tf.keras.layers.Activation(\"relu\"))\n",
        "model.add(tf.keras.layers.BatchNormalization())\n",
        "model.add(tf.keras.layers.MaxPooling2D(pool_size=(2, 2)))\n",
        "\n",
        "#A second convolutional layer with 64 filters\n",
        "model.add(tf.keras.layers.Conv2D(64, (3, 3), padding=\"same\"))\n",
        "model.add(tf.keras.layers.Activation(\"relu\"))\n",
        "model.add(tf.keras.layers.BatchNormalization())\n",
        "model.add(tf.keras.layers.MaxPooling2D(pool_size=(2, 2)))\n",
        "\n",
        "#A second convolutional layer with 128 filters\n",
        "model.add(tf.keras.layers.Conv2D(128, (3, 3), padding=\"same\"))\n",
        "model.add(tf.keras.layers.Activation(\"relu\"))\n",
        "model.add(tf.keras.layers.BatchNormalization())\n",
        "model.add(tf.keras.layers.MaxPooling2D(pool_size=(2, 2)))\n",
        "\n",
        "\n",
        "#Fully connected layer\n",
        "model.add(tf.keras.layers.Flatten())\n",
        "model.add(tf.keras.layers.Dense(512))\n",
        "model.add(tf.keras.layers.Activation(\"relu\"))\n",
        "model.add(tf.keras.layers.BatchNormalization())\n",
        "model.add(tf.keras.layers.Dropout(0.5))\n",
        "\n",
        "\n",
        "model.add(tf.keras.layers.Dense(85))\n",
        "model.add(tf.keras.layers.Activation(\"softmax\"))"
      ],
      "execution_count": null,
      "outputs": []
    },
    {
      "cell_type": "code",
      "metadata": {
        "id": "w8dBaD4l6hO3"
      },
      "source": [
        "model.summary()"
      ],
      "execution_count": null,
      "outputs": []
    },
    {
      "cell_type": "code",
      "metadata": {
        "id": "wTVxI0Mi6hR2"
      },
      "source": [
        "#Compile the model\n",
        "model.compile(loss='categorical_crossentropy',optimizer = 'Adam', metrics = ['categorical_accuracy'])"
      ],
      "execution_count": null,
      "outputs": []
    },
    {
      "cell_type": "code",
      "metadata": {
        "id": "n_3pKYBD6hVG"
      },
      "source": [
        "from keras.callbacks import History\n",
        "from keras.callbacks import EarlyStopping\n",
        "\n",
        "\n",
        "#Checkpoint used to save the best model throughout the epochs\n",
        "#Using a csv logger to track epochs\n",
        "checkpointer = ModelCheckpoint(filepath=\"/content/gdrive/MyDrive/UECMODEL2/best_model.hdf5\", verbose=1, save_best_only=True)\n",
        "csv_logger = CSVLogger('/content/gdrive/MyDrive/UECMODEL2/history_3class.log')\n",
        "history = History()"
      ],
      "execution_count": null,
      "outputs": []
    },
    {
      "cell_type": "code",
      "metadata": {
        "colab": {
          "base_uri": "https://localhost:8080/"
        },
        "id": "kEjM7Yn-6hYb",
        "outputId": "e5ad06a9-4ffb-4716-99d2-0f8f6b6f5713"
      },
      "source": [
        "#Fitting the model(Training the model)\n",
        "hist = model.fit(\n",
        "    train_generator,\n",
        "    shuffle = True,\n",
        "    steps_per_epoch = 614,\n",
        "    epochs = 75,callbacks=[history, checkpointer, csv_logger],\n",
        "    validation_data = validation_generator,\n",
        "    validation_steps= 150)"
      ],
      "execution_count": null,
      "outputs": [
        {
          "output_type": "stream",
          "text": [
            "Epoch 1/75\n",
            "614/614 [==============================] - 139s 177ms/step - loss: 4.7282 - categorical_accuracy: 0.0880 - val_loss: 4.3062 - val_categorical_accuracy: 0.1408\n",
            "\n",
            "Epoch 00001: val_loss improved from inf to 4.30624, saving model to /content/gdrive/MyDrive/UECMODEL2/best_model.hdf5\n",
            "Epoch 2/75\n",
            "614/614 [==============================] - 109s 178ms/step - loss: 3.9297 - categorical_accuracy: 0.1455 - val_loss: 3.7333 - val_categorical_accuracy: 0.1708\n",
            "\n",
            "Epoch 00002: val_loss improved from 4.30624 to 3.73333, saving model to /content/gdrive/MyDrive/UECMODEL2/best_model.hdf5\n",
            "Epoch 3/75\n",
            "614/614 [==============================] - 109s 178ms/step - loss: 3.5496 - categorical_accuracy: 0.1958 - val_loss: 3.9429 - val_categorical_accuracy: 0.1863\n",
            "\n",
            "Epoch 00003: val_loss did not improve from 3.73333\n",
            "Epoch 4/75\n",
            "614/614 [==============================] - 109s 178ms/step - loss: 3.2459 - categorical_accuracy: 0.2318 - val_loss: 4.7949 - val_categorical_accuracy: 0.1471\n",
            "\n",
            "Epoch 00004: val_loss did not improve from 3.73333\n",
            "Epoch 5/75\n",
            "614/614 [==============================] - 109s 177ms/step - loss: 3.1311 - categorical_accuracy: 0.2427 - val_loss: 3.4737 - val_categorical_accuracy: 0.2217\n",
            "\n",
            "Epoch 00005: val_loss improved from 3.73333 to 3.47368, saving model to /content/gdrive/MyDrive/UECMODEL2/best_model.hdf5\n",
            "Epoch 6/75\n",
            "614/614 [==============================] - 107s 175ms/step - loss: 2.9665 - categorical_accuracy: 0.2786 - val_loss: 3.4258 - val_categorical_accuracy: 0.2429\n",
            "\n",
            "Epoch 00006: val_loss improved from 3.47368 to 3.42582, saving model to /content/gdrive/MyDrive/UECMODEL2/best_model.hdf5\n",
            "Epoch 7/75\n",
            "614/614 [==============================] - 107s 175ms/step - loss: 2.8014 - categorical_accuracy: 0.2951 - val_loss: 3.3429 - val_categorical_accuracy: 0.2529\n",
            "\n",
            "Epoch 00007: val_loss improved from 3.42582 to 3.34286, saving model to /content/gdrive/MyDrive/UECMODEL2/best_model.hdf5\n",
            "Epoch 8/75\n",
            "614/614 [==============================] - 108s 175ms/step - loss: 2.7976 - categorical_accuracy: 0.2965 - val_loss: 3.0502 - val_categorical_accuracy: 0.2667\n",
            "\n",
            "Epoch 00008: val_loss improved from 3.34286 to 3.05018, saving model to /content/gdrive/MyDrive/UECMODEL2/best_model.hdf5\n",
            "Epoch 9/75\n",
            "614/614 [==============================] - 107s 174ms/step - loss: 2.6855 - categorical_accuracy: 0.3191 - val_loss: 3.6066 - val_categorical_accuracy: 0.2117\n",
            "\n",
            "Epoch 00009: val_loss did not improve from 3.05018\n",
            "Epoch 10/75\n",
            "614/614 [==============================] - 106s 173ms/step - loss: 2.4989 - categorical_accuracy: 0.3578 - val_loss: 3.0100 - val_categorical_accuracy: 0.2754\n",
            "\n",
            "Epoch 00010: val_loss improved from 3.05018 to 3.00999, saving model to /content/gdrive/MyDrive/UECMODEL2/best_model.hdf5\n",
            "Epoch 11/75\n",
            "614/614 [==============================] - 108s 176ms/step - loss: 2.4149 - categorical_accuracy: 0.3789 - val_loss: 3.0906 - val_categorical_accuracy: 0.2688\n",
            "\n",
            "Epoch 00011: val_loss did not improve from 3.00999\n",
            "Epoch 12/75\n",
            "614/614 [==============================] - 110s 179ms/step - loss: 2.3866 - categorical_accuracy: 0.3781 - val_loss: 3.3364 - val_categorical_accuracy: 0.2542\n",
            "\n",
            "Epoch 00012: val_loss did not improve from 3.00999\n",
            "Epoch 13/75\n",
            "614/614 [==============================] - 109s 178ms/step - loss: 2.4059 - categorical_accuracy: 0.3725 - val_loss: 2.7527 - val_categorical_accuracy: 0.3342\n",
            "\n",
            "Epoch 00013: val_loss improved from 3.00999 to 2.75268, saving model to /content/gdrive/MyDrive/UECMODEL2/best_model.hdf5\n",
            "Epoch 14/75\n",
            "614/614 [==============================] - 107s 174ms/step - loss: 2.2812 - categorical_accuracy: 0.3926 - val_loss: 2.9075 - val_categorical_accuracy: 0.3058\n",
            "\n",
            "Epoch 00014: val_loss did not improve from 2.75268\n",
            "Epoch 15/75\n",
            "614/614 [==============================] - 105s 172ms/step - loss: 2.2586 - categorical_accuracy: 0.4081 - val_loss: 3.3636 - val_categorical_accuracy: 0.2804\n",
            "\n",
            "Epoch 00015: val_loss did not improve from 2.75268\n",
            "Epoch 16/75\n",
            "614/614 [==============================] - 106s 172ms/step - loss: 2.1776 - categorical_accuracy: 0.4277 - val_loss: 2.8346 - val_categorical_accuracy: 0.3333\n",
            "\n",
            "Epoch 00016: val_loss did not improve from 2.75268\n",
            "Epoch 17/75\n",
            "614/614 [==============================] - 106s 172ms/step - loss: 2.0826 - categorical_accuracy: 0.4478 - val_loss: 2.5275 - val_categorical_accuracy: 0.3942\n",
            "\n",
            "Epoch 00017: val_loss improved from 2.75268 to 2.52746, saving model to /content/gdrive/MyDrive/UECMODEL2/best_model.hdf5\n",
            "Epoch 18/75\n",
            "614/614 [==============================] - 108s 175ms/step - loss: 2.0412 - categorical_accuracy: 0.4521 - val_loss: 2.5395 - val_categorical_accuracy: 0.3833\n",
            "\n",
            "Epoch 00018: val_loss did not improve from 2.52746\n",
            "Epoch 19/75\n",
            "614/614 [==============================] - 108s 175ms/step - loss: 2.0228 - categorical_accuracy: 0.4590 - val_loss: 3.3204 - val_categorical_accuracy: 0.3079\n",
            "\n",
            "Epoch 00019: val_loss did not improve from 2.52746\n",
            "Epoch 20/75\n",
            "614/614 [==============================] - 105s 171ms/step - loss: 1.9847 - categorical_accuracy: 0.4689 - val_loss: 2.4329 - val_categorical_accuracy: 0.4004\n",
            "\n",
            "Epoch 00020: val_loss improved from 2.52746 to 2.43290, saving model to /content/gdrive/MyDrive/UECMODEL2/best_model.hdf5\n",
            "Epoch 21/75\n",
            "614/614 [==============================] - 106s 173ms/step - loss: 1.9154 - categorical_accuracy: 0.4754 - val_loss: 3.7803 - val_categorical_accuracy: 0.2471\n",
            "\n",
            "Epoch 00021: val_loss did not improve from 2.43290\n",
            "Epoch 22/75\n",
            "614/614 [==============================] - 105s 171ms/step - loss: 1.9992 - categorical_accuracy: 0.4631 - val_loss: 2.4141 - val_categorical_accuracy: 0.4008\n",
            "\n",
            "Epoch 00022: val_loss improved from 2.43290 to 2.41408, saving model to /content/gdrive/MyDrive/UECMODEL2/best_model.hdf5\n",
            "Epoch 23/75\n",
            "614/614 [==============================] - 108s 176ms/step - loss: 1.9083 - categorical_accuracy: 0.4895 - val_loss: 2.4829 - val_categorical_accuracy: 0.3967\n",
            "\n",
            "Epoch 00023: val_loss did not improve from 2.41408\n",
            "Epoch 24/75\n",
            "614/614 [==============================] - 108s 175ms/step - loss: 1.8204 - categorical_accuracy: 0.4986 - val_loss: 2.7268 - val_categorical_accuracy: 0.3592\n",
            "\n",
            "Epoch 00024: val_loss did not improve from 2.41408\n",
            "Epoch 25/75\n",
            "614/614 [==============================] - 107s 174ms/step - loss: 1.7680 - categorical_accuracy: 0.5115 - val_loss: 2.3659 - val_categorical_accuracy: 0.4200\n",
            "\n",
            "Epoch 00025: val_loss improved from 2.41408 to 2.36590, saving model to /content/gdrive/MyDrive/UECMODEL2/best_model.hdf5\n",
            "Epoch 26/75\n",
            "614/614 [==============================] - 106s 173ms/step - loss: 1.7069 - categorical_accuracy: 0.5292 - val_loss: 2.2931 - val_categorical_accuracy: 0.4396\n",
            "\n",
            "Epoch 00026: val_loss improved from 2.36590 to 2.29307, saving model to /content/gdrive/MyDrive/UECMODEL2/best_model.hdf5\n",
            "Epoch 27/75\n",
            "614/614 [==============================] - 108s 175ms/step - loss: 1.7553 - categorical_accuracy: 0.5155 - val_loss: 2.4612 - val_categorical_accuracy: 0.4196\n",
            "\n",
            "Epoch 00027: val_loss did not improve from 2.29307\n",
            "Epoch 28/75\n",
            "614/614 [==============================] - 108s 177ms/step - loss: 1.7646 - categorical_accuracy: 0.5170 - val_loss: 2.3247 - val_categorical_accuracy: 0.4279\n",
            "\n",
            "Epoch 00028: val_loss did not improve from 2.29307\n",
            "Epoch 29/75\n",
            "614/614 [==============================] - 108s 175ms/step - loss: 1.6980 - categorical_accuracy: 0.5396 - val_loss: 2.3895 - val_categorical_accuracy: 0.4221\n",
            "\n",
            "Epoch 00029: val_loss did not improve from 2.29307\n",
            "Epoch 30/75\n",
            "614/614 [==============================] - 107s 175ms/step - loss: 1.6324 - categorical_accuracy: 0.5423 - val_loss: 2.5018 - val_categorical_accuracy: 0.4125\n",
            "\n",
            "Epoch 00030: val_loss did not improve from 2.29307\n",
            "Epoch 31/75\n",
            "614/614 [==============================] - 107s 174ms/step - loss: 1.6284 - categorical_accuracy: 0.5533 - val_loss: 2.4756 - val_categorical_accuracy: 0.4192\n",
            "\n",
            "Epoch 00031: val_loss did not improve from 2.29307\n",
            "Epoch 32/75\n",
            "614/614 [==============================] - 107s 174ms/step - loss: 1.6398 - categorical_accuracy: 0.5393 - val_loss: 2.3343 - val_categorical_accuracy: 0.4283\n",
            "\n",
            "Epoch 00032: val_loss did not improve from 2.29307\n",
            "Epoch 33/75\n",
            "614/614 [==============================] - 106s 172ms/step - loss: 1.6268 - categorical_accuracy: 0.5343 - val_loss: 2.4501 - val_categorical_accuracy: 0.4242\n",
            "\n",
            "Epoch 00033: val_loss did not improve from 2.29307\n",
            "Epoch 34/75\n",
            "614/614 [==============================] - 106s 173ms/step - loss: 1.6325 - categorical_accuracy: 0.5509 - val_loss: 3.0774 - val_categorical_accuracy: 0.3233\n",
            "\n",
            "Epoch 00034: val_loss did not improve from 2.29307\n",
            "Epoch 35/75\n",
            "614/614 [==============================] - 107s 175ms/step - loss: 1.6048 - categorical_accuracy: 0.5538 - val_loss: 2.3633 - val_categorical_accuracy: 0.4446\n",
            "\n",
            "Epoch 00035: val_loss did not improve from 2.29307\n",
            "Epoch 36/75\n",
            "614/614 [==============================] - 108s 175ms/step - loss: 1.5397 - categorical_accuracy: 0.5780 - val_loss: 2.1748 - val_categorical_accuracy: 0.4829\n",
            "\n",
            "Epoch 00036: val_loss improved from 2.29307 to 2.17477, saving model to /content/gdrive/MyDrive/UECMODEL2/best_model.hdf5\n",
            "Epoch 37/75\n",
            "614/614 [==============================] - 108s 175ms/step - loss: 1.4965 - categorical_accuracy: 0.5763 - val_loss: 2.2800 - val_categorical_accuracy: 0.4363\n",
            "\n",
            "Epoch 00037: val_loss did not improve from 2.17477\n",
            "Epoch 38/75\n",
            "614/614 [==============================] - 108s 175ms/step - loss: 1.4736 - categorical_accuracy: 0.5898 - val_loss: 2.1020 - val_categorical_accuracy: 0.4796\n",
            "\n",
            "Epoch 00038: val_loss improved from 2.17477 to 2.10197, saving model to /content/gdrive/MyDrive/UECMODEL2/best_model.hdf5\n",
            "Epoch 39/75\n",
            "614/614 [==============================] - 108s 176ms/step - loss: 1.5273 - categorical_accuracy: 0.5731 - val_loss: 2.1969 - val_categorical_accuracy: 0.4646\n",
            "\n",
            "Epoch 00039: val_loss did not improve from 2.10197\n",
            "Epoch 40/75\n",
            "614/614 [==============================] - 107s 175ms/step - loss: 1.4501 - categorical_accuracy: 0.5881 - val_loss: 2.3866 - val_categorical_accuracy: 0.4271\n",
            "\n",
            "Epoch 00040: val_loss did not improve from 2.10197\n",
            "Epoch 41/75\n",
            "614/614 [==============================] - 108s 175ms/step - loss: 1.4262 - categorical_accuracy: 0.6000 - val_loss: 2.0726 - val_categorical_accuracy: 0.4825\n",
            "\n",
            "Epoch 00041: val_loss improved from 2.10197 to 2.07261, saving model to /content/gdrive/MyDrive/UECMODEL2/best_model.hdf5\n",
            "Epoch 42/75\n",
            "614/614 [==============================] - 109s 177ms/step - loss: 1.4586 - categorical_accuracy: 0.5923 - val_loss: 2.0648 - val_categorical_accuracy: 0.4900\n",
            "\n",
            "Epoch 00042: val_loss improved from 2.07261 to 2.06478, saving model to /content/gdrive/MyDrive/UECMODEL2/best_model.hdf5\n",
            "Epoch 43/75\n",
            "614/614 [==============================] - 107s 175ms/step - loss: 1.4252 - categorical_accuracy: 0.5925 - val_loss: 2.0777 - val_categorical_accuracy: 0.4900\n",
            "\n",
            "Epoch 00043: val_loss did not improve from 2.06478\n",
            "Epoch 44/75\n",
            "614/614 [==============================] - 108s 176ms/step - loss: 1.3922 - categorical_accuracy: 0.6102 - val_loss: 2.0593 - val_categorical_accuracy: 0.4958\n",
            "\n",
            "Epoch 00044: val_loss improved from 2.06478 to 2.05926, saving model to /content/gdrive/MyDrive/UECMODEL2/best_model.hdf5\n",
            "Epoch 45/75\n",
            "614/614 [==============================] - 107s 175ms/step - loss: 1.3557 - categorical_accuracy: 0.6180 - val_loss: 2.1426 - val_categorical_accuracy: 0.4762\n",
            "\n",
            "Epoch 00045: val_loss did not improve from 2.05926\n",
            "Epoch 46/75\n",
            "614/614 [==============================] - 106s 173ms/step - loss: 1.3547 - categorical_accuracy: 0.6158 - val_loss: 2.3876 - val_categorical_accuracy: 0.4308\n",
            "\n",
            "Epoch 00046: val_loss did not improve from 2.05926\n",
            "Epoch 47/75\n",
            "614/614 [==============================] - 106s 172ms/step - loss: 1.3747 - categorical_accuracy: 0.6069 - val_loss: 2.0238 - val_categorical_accuracy: 0.5021\n",
            "\n",
            "Epoch 00047: val_loss improved from 2.05926 to 2.02378, saving model to /content/gdrive/MyDrive/UECMODEL2/best_model.hdf5\n",
            "Epoch 48/75\n",
            "614/614 [==============================] - 107s 175ms/step - loss: 1.3890 - categorical_accuracy: 0.6063 - val_loss: 2.4668 - val_categorical_accuracy: 0.4350\n",
            "\n",
            "Epoch 00048: val_loss did not improve from 2.02378\n",
            "Epoch 49/75\n",
            "614/614 [==============================] - 107s 174ms/step - loss: 1.2937 - categorical_accuracy: 0.6349 - val_loss: 2.1356 - val_categorical_accuracy: 0.4900\n",
            "\n",
            "Epoch 00049: val_loss did not improve from 2.02378\n",
            "Epoch 50/75\n",
            "614/614 [==============================] - 107s 174ms/step - loss: 1.3181 - categorical_accuracy: 0.6230 - val_loss: 2.1110 - val_categorical_accuracy: 0.4929\n",
            "\n",
            "Epoch 00050: val_loss did not improve from 2.02378\n",
            "Epoch 51/75\n",
            "614/614 [==============================] - 107s 174ms/step - loss: 1.3183 - categorical_accuracy: 0.6265 - val_loss: 2.1009 - val_categorical_accuracy: 0.4892\n",
            "\n",
            "Epoch 00051: val_loss did not improve from 2.02378\n",
            "Epoch 52/75\n",
            "614/614 [==============================] - 106s 173ms/step - loss: 1.3034 - categorical_accuracy: 0.6279 - val_loss: 2.3041 - val_categorical_accuracy: 0.4704\n",
            "\n",
            "Epoch 00052: val_loss did not improve from 2.02378\n",
            "Epoch 53/75\n",
            "614/614 [==============================] - 108s 176ms/step - loss: 1.3155 - categorical_accuracy: 0.6233 - val_loss: 2.1994 - val_categorical_accuracy: 0.4700\n",
            "\n",
            "Epoch 00053: val_loss did not improve from 2.02378\n",
            "Epoch 54/75\n",
            "614/614 [==============================] - 107s 174ms/step - loss: 1.2971 - categorical_accuracy: 0.6286 - val_loss: 2.3327 - val_categorical_accuracy: 0.4579\n",
            "\n",
            "Epoch 00054: val_loss did not improve from 2.02378\n",
            "Epoch 55/75\n",
            "614/614 [==============================] - 109s 177ms/step - loss: 1.2671 - categorical_accuracy: 0.6337 - val_loss: 2.1943 - val_categorical_accuracy: 0.4850\n",
            "\n",
            "Epoch 00055: val_loss did not improve from 2.02378\n",
            "Epoch 56/75\n",
            "614/614 [==============================] - 108s 175ms/step - loss: 1.2432 - categorical_accuracy: 0.6502 - val_loss: 2.2333 - val_categorical_accuracy: 0.4988\n",
            "\n",
            "Epoch 00056: val_loss did not improve from 2.02378\n",
            "Epoch 57/75\n",
            "614/614 [==============================] - 107s 174ms/step - loss: 1.2306 - categorical_accuracy: 0.6452 - val_loss: 2.1011 - val_categorical_accuracy: 0.4967\n",
            "\n",
            "Epoch 00057: val_loss did not improve from 2.02378\n",
            "Epoch 58/75\n",
            "614/614 [==============================] - 107s 174ms/step - loss: 1.2277 - categorical_accuracy: 0.6442 - val_loss: 2.1154 - val_categorical_accuracy: 0.5004\n",
            "\n",
            "Epoch 00058: val_loss did not improve from 2.02378\n",
            "Epoch 59/75\n",
            "614/614 [==============================] - 110s 179ms/step - loss: 1.2250 - categorical_accuracy: 0.6424 - val_loss: 2.0256 - val_categorical_accuracy: 0.5179\n",
            "\n",
            "Epoch 00059: val_loss did not improve from 2.02378\n",
            "Epoch 60/75\n",
            "614/614 [==============================] - 110s 180ms/step - loss: 1.1950 - categorical_accuracy: 0.6631 - val_loss: 2.0563 - val_categorical_accuracy: 0.5050\n",
            "\n",
            "Epoch 00060: val_loss did not improve from 2.02378\n",
            "Epoch 61/75\n",
            "614/614 [==============================] - 112s 182ms/step - loss: 1.2070 - categorical_accuracy: 0.6558 - val_loss: 1.9277 - val_categorical_accuracy: 0.5238\n",
            "\n",
            "Epoch 00061: val_loss improved from 2.02378 to 1.92765, saving model to /content/gdrive/MyDrive/UECMODEL2/best_model.hdf5\n",
            "Epoch 62/75\n",
            "614/614 [==============================] - 111s 180ms/step - loss: 1.2038 - categorical_accuracy: 0.6590 - val_loss: 2.1136 - val_categorical_accuracy: 0.5058\n",
            "\n",
            "Epoch 00062: val_loss did not improve from 1.92765\n",
            "Epoch 63/75\n",
            "614/614 [==============================] - 109s 178ms/step - loss: 1.1805 - categorical_accuracy: 0.6613 - val_loss: 2.2318 - val_categorical_accuracy: 0.4829\n",
            "\n",
            "Epoch 00063: val_loss did not improve from 1.92765\n",
            "Epoch 64/75\n",
            "614/614 [==============================] - 107s 174ms/step - loss: 1.1892 - categorical_accuracy: 0.6650 - val_loss: 2.1932 - val_categorical_accuracy: 0.4929\n",
            "\n",
            "Epoch 00064: val_loss did not improve from 1.92765\n",
            "Epoch 65/75\n",
            "614/614 [==============================] - 108s 175ms/step - loss: 1.1591 - categorical_accuracy: 0.6643 - val_loss: 2.0366 - val_categorical_accuracy: 0.5154\n",
            "\n",
            "Epoch 00065: val_loss did not improve from 1.92765\n",
            "Epoch 66/75\n",
            "614/614 [==============================] - 107s 175ms/step - loss: 1.1991 - categorical_accuracy: 0.6455 - val_loss: 2.2199 - val_categorical_accuracy: 0.4996\n",
            "\n",
            "Epoch 00066: val_loss did not improve from 1.92765\n",
            "Epoch 67/75\n",
            "614/614 [==============================] - 108s 175ms/step - loss: 1.1474 - categorical_accuracy: 0.6685 - val_loss: 2.0341 - val_categorical_accuracy: 0.5358\n",
            "\n",
            "Epoch 00067: val_loss did not improve from 1.92765\n",
            "Epoch 68/75\n",
            "614/614 [==============================] - 107s 174ms/step - loss: 1.1257 - categorical_accuracy: 0.6746 - val_loss: 2.4986 - val_categorical_accuracy: 0.4458\n",
            "\n",
            "Epoch 00068: val_loss did not improve from 1.92765\n",
            "Epoch 69/75\n",
            "614/614 [==============================] - 106s 172ms/step - loss: 1.1528 - categorical_accuracy: 0.6668 - val_loss: 2.0499 - val_categorical_accuracy: 0.5242\n",
            "\n",
            "Epoch 00069: val_loss did not improve from 1.92765\n",
            "Epoch 70/75\n",
            "614/614 [==============================] - 105s 172ms/step - loss: 1.1189 - categorical_accuracy: 0.6763 - val_loss: 2.1961 - val_categorical_accuracy: 0.4963\n",
            "\n",
            "Epoch 00070: val_loss did not improve from 1.92765\n",
            "Epoch 71/75\n",
            "614/614 [==============================] - 105s 171ms/step - loss: 1.1130 - categorical_accuracy: 0.6750 - val_loss: 2.0111 - val_categorical_accuracy: 0.5217\n",
            "\n",
            "Epoch 00071: val_loss did not improve from 1.92765\n",
            "Epoch 72/75\n",
            "614/614 [==============================] - 105s 170ms/step - loss: 1.0942 - categorical_accuracy: 0.6816 - val_loss: 1.9087 - val_categorical_accuracy: 0.5321\n",
            "\n",
            "Epoch 00072: val_loss improved from 1.92765 to 1.90867, saving model to /content/gdrive/MyDrive/UECMODEL2/best_model.hdf5\n",
            "Epoch 73/75\n",
            "614/614 [==============================] - 106s 173ms/step - loss: 1.1305 - categorical_accuracy: 0.6672 - val_loss: 2.1055 - val_categorical_accuracy: 0.5063\n",
            "\n",
            "Epoch 00073: val_loss did not improve from 1.90867\n",
            "Epoch 74/75\n",
            "614/614 [==============================] - 106s 173ms/step - loss: 1.1382 - categorical_accuracy: 0.6681 - val_loss: 1.9719 - val_categorical_accuracy: 0.5333\n",
            "\n",
            "Epoch 00074: val_loss did not improve from 1.90867\n",
            "Epoch 75/75\n",
            "614/614 [==============================] - 105s 171ms/step - loss: 1.0698 - categorical_accuracy: 0.6823 - val_loss: 2.2061 - val_categorical_accuracy: 0.4871\n",
            "\n",
            "Epoch 00075: val_loss did not improve from 1.90867\n"
          ],
          "name": "stdout"
        }
      ]
    },
    {
      "cell_type": "code",
      "metadata": {
        "colab": {
          "base_uri": "https://localhost:8080/"
        },
        "id": "r4NBgo7x6hn3",
        "outputId": "331e5e0c-c1d7-4f0f-fcce-d7a1f33526f9"
      },
      "source": [
        "#Model accuracy calculation\n",
        "acc = model.evaluate(validation_generator, steps=len(validation_generator), verbose = 2)\n",
        "print('%.2f'%(acc[1]*100))"
      ],
      "execution_count": null,
      "outputs": [
        {
          "output_type": "stream",
          "text": [
            "152/152 - 16s - loss: 1.9567 - categorical_accuracy: 0.5586\n",
            "55.86\n"
          ],
          "name": "stdout"
        }
      ]
    },
    {
      "cell_type": "code",
      "metadata": {
        "id": "pUCl5fJG6hcj"
      },
      "source": [
        "model.save('/content/gdrive/MyDrive/UECMODEL2/own_model.hdf5')"
      ],
      "execution_count": null,
      "outputs": []
    },
    {
      "cell_type": "code",
      "metadata": {
        "colab": {
          "base_uri": "https://localhost:8080/"
        },
        "id": "gt98lqmIZNXJ",
        "outputId": "1fcd1965-45ba-49cf-8efe-1b038eabeff3"
      },
      "source": [
        "tf.saved_model.save(model, '/content/gdrive/MyDrive/UECMODEL2')"
      ],
      "execution_count": null,
      "outputs": [
        {
          "output_type": "stream",
          "text": [
            "INFO:tensorflow:Assets written to: /content/gdrive/MyDrive/UECMODEL/assets\n"
          ],
          "name": "stdout"
        }
      ]
    },
    {
      "cell_type": "code",
      "metadata": {
        "colab": {
          "base_uri": "https://localhost:8080/",
          "height": 350
        },
        "id": "3VfNezOb6hgC",
        "outputId": "59e51619-81bf-4db3-a464-3e4578483346"
      },
      "source": [
        "#PLotting loss\n",
        "import matplotlib.pyplot as plt\n",
        "\n",
        "plt.plot(hist.history['loss'], color = 'blue', label = 'Training Loss')\n",
        "plt.plot(hist.history['val_loss'], color = 'orange', label = 'Validation Loss')\n",
        "plt.grid(True)\n",
        "plt.title(\"Train and Test loss with epochs\\n\", fontsize=16)\n",
        "plt.xlabel(\"Training epochs\", fontsize=12)\n",
        "plt.ylabel(\"Train & Test loss\", fontsize=12)\n",
        "plt.legend(loc=0)\n",
        "plt.figure()\n",
        "plt.show"
      ],
      "execution_count": null,
      "outputs": [
        {
          "output_type": "execute_result",
          "data": {
            "text/plain": [
              "<function matplotlib.pyplot.show>"
            ]
          },
          "metadata": {
            "tags": []
          },
          "execution_count": 26
        },
        {
          "output_type": "display_data",
          "data": {
            "image/png": "[encoded data removed]",
            "text/plain": [
              "<Figure size 432x288 with 1 Axes>"
            ]
          },
          "metadata": {
            "tags": [],
            "needs_background": "light"
          }
        },
        {
          "output_type": "display_data",
          "data": {
            "text/plain": [
              "<Figure size 432x288 with 0 Axes>"
            ]
          },
          "metadata": {
            "tags": []
          }
        }
      ]
    },
    {
      "cell_type": "code",
      "metadata": {
        "id": "gpF5bh1I6hj8"
      },
      "source": [
        "#plotting the accuracy \n",
        "import matplotlib.pyplot as plt\n",
        "\n",
        "plt.plot(hist.history['categorical_accuracy'], color = 'blue', label = 'Training Accuracy')\n",
        "plt.plot(hist.history['val_categorical_accuracy'], color = 'orange', label = 'Validation Accuracy')\n",
        "plt.grid(True)\n",
        "plt.title(\"Train and Test Accuracy with epochs\\n\", fontsize=16)\n",
        "plt.xlabel(\"Training epochs\", fontsize=12)\n",
        "plt.ylabel(\"Train & Test Accuracy\", fontsize=12)\n",
        "plt.legend(loc=0)\n",
        "plt.figure()\n",
        "plt.show"
      ],
      "execution_count": null,
      "outputs": []
    },
    {
      "cell_type": "code",
      "metadata": {
        "id": "_a4J29tGh-9g"
      },
      "source": [
        "#Names of classes, to be used for confusion matrix and classification report\n",
        "target_names = [ 'rice', \n",
        "                'tempura bowl',\n",
        "                'bibimbap',\n",
        "                'toast',\n",
        "                'croissant',\n",
        "                'roll bread',\n",
        "                'rasin bread','chip butty','hamburger','pizza','sandwiches','eels on rice','udon noodle','tempura udon','soba noodle','ramen noodle','beef noodle','tensin noodle','fried noodle',\n",
        "                    'spaghetti',\n",
        "                    'Japanese-style pancake',\n",
        "                    'takoyako',\n",
        "                    'pilaf',\n",
        "                    'gratin',\n",
        "                    'sauteed vegetables',\n",
        "                    'croquette',\n",
        "                    'grilled eggplant',\n",
        "                    'sauteed spinach',\n",
        "                    'vegetable tempura',\n",
        "                    'miso soup',\n",
        "                    'potage',\n",
        "                    'sausage',\n",
        "                    'oden',\n",
        "                    'chicken and egg on rice',\n",
        "                    'omelet',\n",
        "                    'ganmodoki',\n",
        "                    'jiaozi',\n",
        "                    'stew',\n",
        "                    'teriyaki grilled fish',\n",
        "                    'fried fish',\n",
        "                    'grilled salmon',\n",
        "                    'salmon meuniere',\n",
        "                    'sashimi',\n",
        "                    'grilled pacific saury',\n",
        "                    'pork cutlet on rice',\n",
        "                    'sukiyaki',\n",
        "                    'sweet and sour pork',\n",
        "                    'lightly roasted fish',\n",
        "                    'steamed egg hotchpotch',\n",
        "                    'tempura',\n",
        "                    'fried chicken',\n",
        "                    'sirloin cutlet',\n",
        "                    'nanbanzuke',\n",
        "                    'boiled fish',\n",
        "                    'seasoned beef with potatoes',\n",
        "                    'beef curry',\n",
        "                    'hambarg steak',\n",
        "                    'steak',\n",
        "                    'dried fish',\n",
        "                    'ginger pork saute',\n",
        "                    'spicy chili-flavoured tofu',\n",
        "                    'yakitori',\n",
        "                    'cabbage roll',\n",
        "                    'omelet',\n",
        "                    'egg sunny-side up',\n",
        "                    'natto',\n",
        "                    'sushi',\n",
        "                    'cold tofu',\n",
        "                    'egg roll',\n",
        "                    'chilled noodle',\n",
        "                    'stir-fried beef and peppers',\n",
        "                    'simmered pork',\n",
        "                    'boiled chicken and vegetables',\n",
        "                    'sashimi bowl',\n",
        "                    'sushi bowl',\n",
        "                    'fish-shaped pancake with bean jam',\n",
        "                    'shrimp with chilli sauce',\n",
        "                    'chicken rice',\n",
        "                    'roast chicken',\n",
        "                    'steamed meat dumpling',\n",
        "                    'omelet with fried rice',\n",
        "                    'cutlet curry',\n",
        "                    'spaghetti meat sauce',\n",
        "                    'fried shrimp',\n",
        "                    'fried rice']\n",
        "\n"
      ],
      "execution_count": null,
      "outputs": []
    },
    {
      "cell_type": "code",
      "metadata": {
        "colab": {
          "base_uri": "https://localhost:8080/"
        },
        "id": "wz9_GMx_6hrI",
        "outputId": "98a57164-ce0f-4042-ddb1-fae7a7500465"
      },
      "source": [
        "#Produce classification report for F1 scores\n",
        "from sklearn.metrics import classification_report, confusion_matrix\n",
        "import numpy as np\n",
        "\n",
        "Y_pred = model.predict(validation_generator, 2424)\n",
        "y_pred = np.argmax(Y_pred, axis=1)\n",
        "print('Confusion Matrix')\n",
        "print(confusion_matrix(validation_generator.classes, y_pred))\n",
        "print('Classification Report')\n",
        "\n",
        "print(classification_report(validation_generator.classes, y_pred, target_names=target_names))"
      ],
      "execution_count": null,
      "outputs": [
        {
          "output_type": "stream",
          "text": [
            "Confusion Matrix\n",
            "[[109   0   0 ...   0   0   1]\n",
            " [  1  12   0 ...   0   0   1]\n",
            " [  0   0  16 ...   0   0   0]\n",
            " ...\n",
            " [  0   0   0 ...  13   0   1]\n",
            " [  0   0   0 ...   0   8   0]\n",
            " [  2   0   0 ...   0   0  21]]\n",
            "Classification Report\n",
            "                                   precision    recall  f1-score   support\n",
            "\n",
            "                             rice       0.78      0.88      0.83       124\n",
            "                     tempura bowl       0.63      0.44      0.52        27\n",
            "                         bibimbap       0.76      0.73      0.74        22\n",
            "                            toast       0.49      0.40      0.44        43\n",
            "                        croissant       0.49      0.71      0.58        24\n",
            "                       roll bread       0.42      0.81      0.56        21\n",
            "                      rasin bread       0.71      0.60      0.65        20\n",
            "                       chip butty       0.26      0.48      0.34        29\n",
            "                        hamburger       0.52      0.74      0.61        46\n",
            "                            pizza       0.27      0.31      0.29        26\n",
            "                       sandwiches       0.40      0.53      0.45        32\n",
            "                     eels on rice       0.69      0.92      0.79        26\n",
            "                      udon noodle       0.75      0.40      0.52        30\n",
            "                     tempura udon       0.88      0.33      0.48        21\n",
            "                      soba noodle       0.88      0.88      0.88        32\n",
            "                     ramen noodle       0.47      0.57      0.52        70\n",
            "                      beef noodle       0.53      0.37      0.43        27\n",
            "                    tensin noodle       0.65      0.68      0.67        22\n",
            "                     fried noodle       0.58      0.54      0.56        26\n",
            "                        spaghetti       0.45      0.50      0.48        30\n",
            "           Japanese-style pancake       0.59      0.81      0.69        27\n",
            "                         takoyako       0.28      0.42      0.33        26\n",
            "                            pilaf       0.50      0.35      0.41        23\n",
            "                           gratin       0.73      0.35      0.47        23\n",
            "               sauteed vegetables       0.29      0.42      0.34        24\n",
            "                        croquette       0.27      0.12      0.17        25\n",
            "                 grilled eggplant       0.60      0.45      0.51        20\n",
            "   sauteed spinachsauteed tempura       0.85      0.85      0.85        20\n",
            "                vegetable tempura       0.22      0.09      0.12        23\n",
            "                        miso soup       0.80      0.92      0.85       145\n",
            "                           potage       0.68      0.59      0.63        22\n",
            "                          sausage       0.32      0.48      0.39        23\n",
            "                             oden       0.32      0.41      0.36        22\n",
            "          chicken and egg on rice       0.80      0.33      0.47        24\n",
            "                           omelet       0.31      0.24      0.27        21\n",
            "                        ganmodoki       0.14      0.14      0.14        22\n",
            "                           jiaozi       0.28      0.30      0.29        33\n",
            "                             stew       0.71      0.48      0.57        21\n",
            "            teriyaki grilled fish       0.39      0.33      0.36        21\n",
            "                       fried fish       0.29      0.25      0.27        24\n",
            "                   grilled salmon       0.55      0.70      0.62        23\n",
            "                  salmon meuniere       0.40      0.20      0.27        20\n",
            "                          sashimi       0.29      0.25      0.27        24\n",
            "            grilled pacific saury       0.61      0.75      0.67        36\n",
            "              pork cutlet on rice       0.32      0.43      0.37        30\n",
            "                         sukiyaki       0.46      0.54      0.50        24\n",
            "              sweet and sour pork       0.83      0.71      0.77        21\n",
            "             lightly roasted fish       0.59      0.50      0.54        20\n",
            "           steamed egg hotchpotch       0.65      0.52      0.58        21\n",
            "                          tempura       0.38      0.22      0.28        23\n",
            "                    fried chicken       0.12      0.33      0.18        30\n",
            "                   sirloin cutlet       0.67      0.14      0.24        28\n",
            "                       nanbanzuke       0.67      0.30      0.41        20\n",
            "                      boiled fish       0.40      0.19      0.26        21\n",
            "      seasoned beef with potatoes       0.63      0.83      0.72        23\n",
            "                       beef curry       0.59      0.49      0.53        49\n",
            "                    hambarg steak       0.33      0.26      0.29        27\n",
            "                            steak       0.62      0.62      0.62        21\n",
            "                       dried fish       0.75      0.55      0.63        22\n",
            "                ginger pork saute       0.82      0.39      0.53        23\n",
            "       spicy chili-flavoured tofu       0.57      0.50      0.53        24\n",
            "                         yakitori       0.42      0.50      0.46        22\n",
            "                     cabbage roll       0.81      0.62      0.70        21\n",
            "                           omelet       0.30      0.23      0.26        26\n",
            "                egg sunny-side up       0.71      0.61      0.66        44\n",
            "                            natto       0.64      0.55      0.59        29\n",
            "                            sushi       0.62      0.33      0.43        30\n",
            "                        cold tofu       0.52      0.52      0.52        31\n",
            "                         egg roll       0.40      0.29      0.33        21\n",
            "                   chilled noodle       0.77      0.74      0.76        23\n",
            "      stir-fried beef and peppers       0.83      0.71      0.77        21\n",
            "                    simmered pork       0.35      0.33      0.34        21\n",
            "    boiled chicken and vegetables       0.63      0.57      0.60        21\n",
            "                     sashimi bowl       0.58      0.38      0.46        29\n",
            "                       sushi bowl       0.54      0.32      0.40        22\n",
            "fish-shaped pancake with bean jam       0.45      0.83      0.59        24\n",
            "         shrimp with chilli sauce       0.57      0.74      0.64        23\n",
            "                     chicken rice       0.48      0.60      0.53        20\n",
            "                    roast chicken       0.32      0.41      0.36        22\n",
            "            steamed meat dumpling       0.31      0.17      0.22        23\n",
            "           omelet with fried rice       0.69      0.36      0.47        25\n",
            "                     cutlet curry       0.56      0.64      0.60        28\n",
            "             spaghetti meat sauce       0.59      0.52      0.55        25\n",
            "                     fried shrimp       0.44      0.35      0.39        23\n",
            "                       fried rice       0.47      0.64      0.54        33\n",
            "\n",
            "                         accuracy                           0.53      2424\n",
            "                        macro avg       0.53      0.49      0.49      2424\n",
            "                     weighted avg       0.55      0.53      0.53      2424\n",
            "\n"
          ],
          "name": "stdout"
        }
      ]
    },
    {
      "cell_type": "code",
      "metadata": {
        "id": "nJ8LfUWN6huX"
      },
      "source": [
        "#Load model to produce predictions and metrics, after loading, then load data and perform necessary augmentation.\n",
        "model = load_model('/content/gdrive/MyDrive/UECMODEL2/own_model.hdf5')"
      ],
      "execution_count": null,
      "outputs": []
    },
    {
      "cell_type": "code",
      "metadata": {
        "id": "NpPCW9Ihh_NZ"
      },
      "source": [
        "#Generate and plot confustion matrix\n",
        "%matplotlib inline\n",
        "import itertools\n",
        "import matplotlib.pyplot as plt\n",
        "import numpy as np\n",
        "from sklearn.metrics import classification_report, confusion_matrix\n",
        "from matplotlib.pyplot import figure\n",
        "\n",
        "figure(figsize=(70, 70))\n",
        "\n",
        "Y_pred = model.predict(validation_generator, 2424)\n",
        "y_pred = np.argmax(Y_pred, axis=1)\n",
        "\n",
        "cm = confusion_matrix(validation_generator.classes, y_pred)\n",
        "\n",
        "\n",
        "plt.imshow(cm, cmap=plt.cm.Blues)\n",
        "plt.xlabel(\"Predicted Values\")\n",
        "plt.ylabel(\"True Values\")\n",
        "#plt.margins(0.9)\n",
        "\n",
        "plt.subplots_adjust(bottom = 0.15)\n",
        "plt.xticks([],  target_names)\n",
        "plt.yticks([], target_names)\n",
        "plt.title('Confusion matrix ')\n",
        "plt.colorbar()\n",
        "plt.show()"
      ],
      "execution_count": null,
      "outputs": []
    }
  ]
}